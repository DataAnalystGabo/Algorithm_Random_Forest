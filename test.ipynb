{
 "cells": [
  {
   "cell_type": "markdown",
   "metadata": {},
   "source": [
    "### **Estructura de Nodos (TreeNode)**\n",
    "--------------------------------------\n",
    "\n",
    "El concepto que subyace los algoritmos de RandomForest involucran una *n* cantidad de árboles de decisión. Un *árbol de decisión* no es más que un conjunto de nodos conectados jerárquicamente. Cada nodo almacena la información sobre **cómo se divide** nuestro dataset o **qué clase predice** en caso de ser hoja.\n",
    "\n",
    "Es importante distinguir los dos tipos de nodos que son empleados en estos algoritmos:\n",
    "\n",
    "**Node (Node):** es un punto de decisión en el árbol. Contiene una **varieble** y un **umbral** que se usa para dividir los datos en dos ramas; izquierda (left) o derecha (right).\n",
    "\n",
    "**Hoja (Leaf Node):** es un nodo **final** del árbol. No tiene divisiones, sino que almacena un **valor de predicción**  (por ejemplo, si un email es spam o no).\n"
   ]
  },
  {
   "cell_type": "code",
   "execution_count": 1,
   "metadata": {},
   "outputs": [],
   "source": [
    "from decision_tree import TreeNode"
   ]
  },
  {
   "cell_type": "code",
   "execution_count": 2,
   "metadata": {},
   "outputs": [],
   "source": [
    "leaf_node = TreeNode()"
   ]
  },
  {
   "cell_type": "code",
   "execution_count": 3,
   "metadata": {},
   "outputs": [],
   "source": [
    "internal_node = TreeNode(feature_index=2, threshold=3.5, left=leaf_node, right=None)"
   ]
  },
  {
   "cell_type": "code",
   "execution_count": 4,
   "metadata": {},
   "outputs": [
    {
     "name": "stdout",
     "output_type": "stream",
     "text": [
      "Nodo hoja:  {'feature_index': None, 'threshold': None, 'left': None, 'right': None, 'value': None}\n",
      "Nodo interno:  {'feature_index': 2, 'threshold': 3.5, 'left': <decision_tree.TreeNode object at 0x00000242D148B7A0>, 'right': None, 'value': None}\n"
     ]
    }
   ],
   "source": [
    "print(\"Nodo hoja: \", leaf_node.__dict__)\n",
    "print(\"Nodo interno: \", internal_node.__dict__)"
   ]
  },
  {
   "cell_type": "markdown",
   "metadata": {},
   "source": [
    "##### **Parámetros de la clase TreeNode:**\n",
    "\n",
    "**feature_index:** (índice de la variable independiente o característica) -> indica qué variable se usó para dividir.\n",
    "\n",
    "**threshold:** (umbral) -> es el valor sobre el que se decide la división.\n",
    "\n",
    "**left:** (nodo izquierdo) -> contiene las instancias que *no* lograron superar el valor del threshold.\n",
    "\n",
    "**right:** (nodo derecho) -> en contraposición a los nodos izquierdos, estos contienen las intancias que superaron el valor del threshold.\n",
    "\n",
    "**value:** (valor del nodo) -> clase predicha si es un nodo hoja."
   ]
  }
 ],
 "metadata": {
  "kernelspec": {
   "display_name": "random_forest_env",
   "language": "python",
   "name": "python3"
  },
  "language_info": {
   "codemirror_mode": {
    "name": "ipython",
    "version": 3
   },
   "file_extension": ".py",
   "mimetype": "text/x-python",
   "name": "python",
   "nbconvert_exporter": "python",
   "pygments_lexer": "ipython3",
   "version": "3.12.3"
  }
 },
 "nbformat": 4,
 "nbformat_minor": 2
}
